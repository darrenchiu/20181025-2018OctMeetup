{
 "cells": [
  {
   "cell_type": "markdown",
   "metadata": {},
   "source": [
    "# Classification algorithm evaluation"
   ]
  },
  {
   "cell_type": "markdown",
   "metadata": {},
   "source": [
    "## Basic\n",
    "\n",
    "To begin the discussion, let's look at the construction of a confusion matrix of a classification algorithm. Consider a trained classification algorithm:"
   ]
  },
  {
   "cell_type": "code",
   "execution_count": 1,
   "metadata": {},
   "outputs": [
    {
     "name": "stdout",
     "output_type": "stream",
     "text": [
      "             Survived  Pclass  \\\n",
      "PassengerId                     \n",
      "1                   0       3   \n",
      "2                   1       1   \n",
      "3                   1       3   \n",
      "4                   1       1   \n",
      "5                   0       3   \n",
      "6                   0       3   \n",
      "7                   0       1   \n",
      "8                   0       3   \n",
      "9                   1       3   \n",
      "10                  1       2   \n",
      "11                  1       3   \n",
      "12                  1       1   \n",
      "13                  0       3   \n",
      "14                  0       3   \n",
      "15                  0       3   \n",
      "16                  1       2   \n",
      "17                  0       3   \n",
      "18                  1       2   \n",
      "19                  0       3   \n",
      "20                  1       3   \n",
      "21                  0       2   \n",
      "22                  1       2   \n",
      "23                  1       3   \n",
      "24                  1       1   \n",
      "25                  0       3   \n",
      "26                  1       3   \n",
      "27                  0       3   \n",
      "28                  0       1   \n",
      "29                  1       3   \n",
      "30                  0       3   \n",
      "...               ...     ...   \n",
      "862                 0       2   \n",
      "863                 1       1   \n",
      "864                 0       3   \n",
      "865                 0       2   \n",
      "866                 1       2   \n",
      "867                 1       2   \n",
      "868                 0       1   \n",
      "869                 0       3   \n",
      "870                 1       3   \n",
      "871                 0       3   \n",
      "872                 1       1   \n",
      "873                 0       1   \n",
      "874                 0       3   \n",
      "875                 1       2   \n",
      "876                 1       3   \n",
      "877                 0       3   \n",
      "878                 0       3   \n",
      "879                 0       3   \n",
      "880                 1       1   \n",
      "881                 1       2   \n",
      "882                 0       3   \n",
      "883                 0       3   \n",
      "884                 0       2   \n",
      "885                 0       3   \n",
      "886                 0       3   \n",
      "887                 0       2   \n",
      "888                 1       1   \n",
      "889                 0       3   \n",
      "890                 1       1   \n",
      "891                 0       3   \n",
      "\n",
      "                                                          Name     Sex   Age  \\\n",
      "PassengerId                                                                    \n",
      "1                                      Braund, Mr. Owen Harris    male  22.0   \n",
      "2            Cumings, Mrs. John Bradley (Florence Briggs Th...  female  38.0   \n",
      "3                                       Heikkinen, Miss. Laina  female  26.0   \n",
      "4                 Futrelle, Mrs. Jacques Heath (Lily May Peel)  female  35.0   \n",
      "5                                     Allen, Mr. William Henry    male  35.0   \n",
      "6                                             Moran, Mr. James    male   NaN   \n",
      "7                                      McCarthy, Mr. Timothy J    male  54.0   \n",
      "8                               Palsson, Master. Gosta Leonard    male   2.0   \n",
      "9            Johnson, Mrs. Oscar W (Elisabeth Vilhelmina Berg)  female  27.0   \n",
      "10                         Nasser, Mrs. Nicholas (Adele Achem)  female  14.0   \n",
      "11                             Sandstrom, Miss. Marguerite Rut  female   4.0   \n",
      "12                                    Bonnell, Miss. Elizabeth  female  58.0   \n",
      "13                              Saundercock, Mr. William Henry    male  20.0   \n",
      "14                                 Andersson, Mr. Anders Johan    male  39.0   \n",
      "15                        Vestrom, Miss. Hulda Amanda Adolfina  female  14.0   \n",
      "16                            Hewlett, Mrs. (Mary D Kingcome)   female  55.0   \n",
      "17                                        Rice, Master. Eugene    male   2.0   \n",
      "18                                Williams, Mr. Charles Eugene    male   NaN   \n",
      "19           Vander Planke, Mrs. Julius (Emelia Maria Vande...  female  31.0   \n",
      "20                                     Masselmani, Mrs. Fatima  female   NaN   \n",
      "21                                        Fynney, Mr. Joseph J    male  35.0   \n",
      "22                                       Beesley, Mr. Lawrence    male  34.0   \n",
      "23                                 McGowan, Miss. Anna \"Annie\"  female  15.0   \n",
      "24                                Sloper, Mr. William Thompson    male  28.0   \n",
      "25                               Palsson, Miss. Torborg Danira  female   8.0   \n",
      "26           Asplund, Mrs. Carl Oscar (Selma Augusta Emilia...  female  38.0   \n",
      "27                                     Emir, Mr. Farred Chehab    male   NaN   \n",
      "28                              Fortune, Mr. Charles Alexander    male  19.0   \n",
      "29                               O'Dwyer, Miss. Ellen \"Nellie\"  female   NaN   \n",
      "30                                         Todoroff, Mr. Lalio    male   NaN   \n",
      "...                                                        ...     ...   ...   \n",
      "862                                Giles, Mr. Frederick Edward    male  21.0   \n",
      "863          Swift, Mrs. Frederick Joel (Margaret Welles Ba...  female  48.0   \n",
      "864                          Sage, Miss. Dorothy Edith \"Dolly\"  female   NaN   \n",
      "865                                     Gill, Mr. John William    male  24.0   \n",
      "866                                   Bystrom, Mrs. (Karolina)  female  42.0   \n",
      "867                               Duran y More, Miss. Asuncion  female  27.0   \n",
      "868                       Roebling, Mr. Washington Augustus II    male  31.0   \n",
      "869                                van Melkebeke, Mr. Philemon    male   NaN   \n",
      "870                            Johnson, Master. Harold Theodor    male   4.0   \n",
      "871                                          Balkic, Mr. Cerin    male  26.0   \n",
      "872           Beckwith, Mrs. Richard Leonard (Sallie Monypeny)  female  47.0   \n",
      "873                                   Carlsson, Mr. Frans Olof    male  33.0   \n",
      "874                                Vander Cruyssen, Mr. Victor    male  47.0   \n",
      "875                      Abelson, Mrs. Samuel (Hannah Wizosky)  female  28.0   \n",
      "876                           Najib, Miss. Adele Kiamie \"Jane\"  female  15.0   \n",
      "877                              Gustafsson, Mr. Alfred Ossian    male  20.0   \n",
      "878                                       Petroff, Mr. Nedelio    male  19.0   \n",
      "879                                         Laleff, Mr. Kristo    male   NaN   \n",
      "880              Potter, Mrs. Thomas Jr (Lily Alexenia Wilson)  female  56.0   \n",
      "881               Shelley, Mrs. William (Imanita Parrish Hall)  female  25.0   \n",
      "882                                         Markun, Mr. Johann    male  33.0   \n",
      "883                               Dahlberg, Miss. Gerda Ulrika  female  22.0   \n",
      "884                              Banfield, Mr. Frederick James    male  28.0   \n",
      "885                                     Sutehall, Mr. Henry Jr    male  25.0   \n",
      "886                       Rice, Mrs. William (Margaret Norton)  female  39.0   \n",
      "887                                      Montvila, Rev. Juozas    male  27.0   \n",
      "888                               Graham, Miss. Margaret Edith  female  19.0   \n",
      "889                   Johnston, Miss. Catherine Helen \"Carrie\"  female   NaN   \n",
      "890                                      Behr, Mr. Karl Howell    male  26.0   \n",
      "891                                        Dooley, Mr. Patrick    male  32.0   \n",
      "\n",
      "             SibSp  Parch            Ticket      Fare        Cabin Embarked  \n",
      "PassengerId                                                                  \n",
      "1                1      0         A/5 21171    7.2500          NaN        S  \n",
      "2                1      0          PC 17599   71.2833          C85        C  \n",
      "3                0      0  STON/O2. 3101282    7.9250          NaN        S  \n",
      "4                1      0            113803   53.1000         C123        S  \n",
      "5                0      0            373450    8.0500          NaN        S  \n",
      "6                0      0            330877    8.4583          NaN        Q  \n",
      "7                0      0             17463   51.8625          E46        S  \n",
      "8                3      1            349909   21.0750          NaN        S  \n",
      "9                0      2            347742   11.1333          NaN        S  \n",
      "10               1      0            237736   30.0708          NaN        C  \n",
      "11               1      1           PP 9549   16.7000           G6        S  \n",
      "12               0      0            113783   26.5500         C103        S  \n",
      "13               0      0         A/5. 2151    8.0500          NaN        S  \n",
      "14               1      5            347082   31.2750          NaN        S  \n",
      "15               0      0            350406    7.8542          NaN        S  \n",
      "16               0      0            248706   16.0000          NaN        S  \n",
      "17               4      1            382652   29.1250          NaN        Q  \n",
      "18               0      0            244373   13.0000          NaN        S  \n",
      "19               1      0            345763   18.0000          NaN        S  \n",
      "20               0      0              2649    7.2250          NaN        C  \n",
      "21               0      0            239865   26.0000          NaN        S  \n",
      "22               0      0            248698   13.0000          D56        S  \n",
      "23               0      0            330923    8.0292          NaN        Q  \n",
      "24               0      0            113788   35.5000           A6        S  \n",
      "25               3      1            349909   21.0750          NaN        S  \n",
      "26               1      5            347077   31.3875          NaN        S  \n",
      "27               0      0              2631    7.2250          NaN        C  \n",
      "28               3      2             19950  263.0000  C23 C25 C27        S  \n",
      "29               0      0            330959    7.8792          NaN        Q  \n",
      "30               0      0            349216    7.8958          NaN        S  \n",
      "...            ...    ...               ...       ...          ...      ...  \n",
      "862              1      0             28134   11.5000          NaN        S  \n",
      "863              0      0             17466   25.9292          D17        S  \n",
      "864              8      2          CA. 2343   69.5500          NaN        S  \n",
      "865              0      0            233866   13.0000          NaN        S  \n",
      "866              0      0            236852   13.0000          NaN        S  \n",
      "867              1      0     SC/PARIS 2149   13.8583          NaN        C  \n",
      "868              0      0          PC 17590   50.4958          A24        S  \n",
      "869              0      0            345777    9.5000          NaN        S  \n",
      "870              1      1            347742   11.1333          NaN        S  \n",
      "871              0      0            349248    7.8958          NaN        S  \n",
      "872              1      1             11751   52.5542          D35        S  \n",
      "873              0      0               695    5.0000  B51 B53 B55        S  \n",
      "874              0      0            345765    9.0000          NaN        S  \n",
      "875              1      0         P/PP 3381   24.0000          NaN        C  \n",
      "876              0      0              2667    7.2250          NaN        C  \n",
      "877              0      0              7534    9.8458          NaN        S  \n",
      "878              0      0            349212    7.8958          NaN        S  \n",
      "879              0      0            349217    7.8958          NaN        S  \n",
      "880              0      1             11767   83.1583          C50        C  \n",
      "881              0      1            230433   26.0000          NaN        S  \n",
      "882              0      0            349257    7.8958          NaN        S  \n",
      "883              0      0              7552   10.5167          NaN        S  \n",
      "884              0      0  C.A./SOTON 34068   10.5000          NaN        S  \n",
      "885              0      0   SOTON/OQ 392076    7.0500          NaN        S  \n",
      "886              0      5            382652   29.1250          NaN        Q  \n",
      "887              0      0            211536   13.0000          NaN        S  \n",
      "888              0      0            112053   30.0000          B42        S  \n",
      "889              1      2        W./C. 6607   23.4500          NaN        S  \n",
      "890              0      0            111369   30.0000         C148        C  \n",
      "891              0      0            370376    7.7500          NaN        Q  \n",
      "\n",
      "[891 rows x 11 columns]\n"
     ]
    }
   ],
   "source": [
    "# import a data set\n",
    "# data set from https://github.com/agconti/kaggle-titanic\n",
    "import pandas as pd\n",
    "df_train = pd.read_csv('./train.csv',index_col='PassengerId')\n",
    "print(df_train)  # print the data for display"
   ]
  },
  {
   "cell_type": "code",
   "execution_count": 2,
   "metadata": {},
   "outputs": [
    {
     "name": "stdout",
     "output_type": "stream",
     "text": [
      "Assigning 0 to the value male in Sex\n",
      "Assigning 1 to the value female in Sex\n",
      "Assigning 0 to the value S in Embarked\n",
      "Assigning 1 to the value C in Embarked\n",
      "Assigning 2 to the value Q in Embarked\n"
     ]
    },
    {
     "data": {
      "text/plain": [
       "KNeighborsClassifier(algorithm='auto', leaf_size=30, metric='minkowski',\n",
       "           metric_params=None, n_jobs=1, n_neighbors=3, p=2,\n",
       "           weights='uniform')"
      ]
     },
     "execution_count": 2,
     "metadata": {},
     "output_type": "execute_result"
    }
   ],
   "source": [
    "# let's see if we can use Sex, Age and Port of Embarkment to predict the ticket class\n",
    "# use Scikit-learn for machine learning algorithms\n",
    "from sklearn.neighbors import KNeighborsClassifier  # K neighbour algorithm\n",
    "model = KNeighborsClassifier(n_neighbors=3)\n",
    "# remove all nan data for simplicity\n",
    "df_train = df_train.loc[:, ['Survived', 'Sex', 'Age', 'Embarked', 'Pclass']]\n",
    "df_train = df_train.dropna(how='any')\n",
    "# conduct some preprocssing to replace text data with numbers\n",
    "assignments = {}\n",
    "for item in ['Sex', 'Embarked']:\n",
    "    assignments[item] = {}\n",
    "    for ind, val in enumerate(df_train.loc[:, item].unique()):\n",
    "        df_train.loc[df_train[item] == val, item] = ind\n",
    "        print('Assigning', ind, 'to the value', val, 'in', item)\n",
    "        # record the assignments for potential future use\n",
    "        assignments[item][val] = ind\n",
    "# train the model\n",
    "model.fit(df_train.loc[:, ['Sex', 'Age', 'Embarked']], df_train.Pclass)"
   ]
  },
  {
   "cell_type": "markdown",
   "metadata": {},
   "source": [
    "Now let's check the accuracy at the training data with\n",
    "\n",
    "* Confusion matrix: a table showing the pairing of the predicted classes with the actual classes of the data points\n",
    "* Accuracy scores: a ratio of the number of data points on the diagonal of the confusion matrix to the total number of data points"
   ]
  },
  {
   "cell_type": "code",
   "execution_count": 3,
   "metadata": {},
   "outputs": [
    {
     "name": "stdout",
     "output_type": "stream",
     "text": [
      "[[145  10  29]\n",
      " [ 61  58  54]\n",
      " [ 89  36 230]]\n"
     ]
    }
   ],
   "source": [
    "from sklearn.metrics import confusion_matrix\n",
    "# let's see what the algorithm's predictions are first\n",
    "pred_class = model.predict(df_train.loc[:, ['Sex', 'Age', 'Embarked']])\n",
    "# now we can form the confusion matrix using the estimated classes and the actual classes of the data points\n",
    "confusion_tab = confusion_matrix(df_train.Pclass, pred_class)\n",
    "print(confusion_tab)"
   ]
  },
  {
   "cell_type": "code",
   "execution_count": 4,
   "metadata": {},
   "outputs": [
    {
     "name": "stdout",
     "output_type": "stream",
     "text": [
      "              Predicted class 1  Predicted class 2  Predicted class 3\n",
      "True class 1                145                 10                 29\n",
      "True class 2                 61                 58                 54\n",
      "True class 3                 89                 36                230\n"
     ]
    }
   ],
   "source": [
    "# let's beautify it\n",
    "confusiontab_df = pd.DataFrame(confusion_tab,\n",
    "                               index=[''.join(['True class ', str(ind)]) for ind in range(1, 4)],\n",
    "                               columns=[''.join(['Predicted class ', str(ind)]) for ind in range(1, 4)])\n",
    "print(confusiontab_df)"
   ]
  },
  {
   "cell_type": "markdown",
   "metadata": {},
   "source": [
    "So for data points with Pclass 1, 145 cases are correct predicted, but 10 of them are predicted to be class 2 and 29 of them are predicted to be class 3.\n",
    "\n",
    "But how can we know the overall performance? We can calculate the accuracy score and see the percentage of data points on the diagonal of the confusion matrix."
   ]
  },
  {
   "cell_type": "code",
   "execution_count": 5,
   "metadata": {},
   "outputs": [
    {
     "data": {
      "text/plain": [
       "0.6081460674157303"
      ]
     },
     "execution_count": 5,
     "metadata": {},
     "output_type": "execute_result"
    }
   ],
   "source": [
    "model.score(df_train.loc[:, ['Sex', 'Age', 'Embarked']], df_train.Pclass)"
   ]
  },
  {
   "cell_type": "markdown",
   "metadata": {},
   "source": [
    "The result shows that only 60.8% of data points are classified correctly."
   ]
  },
  {
   "cell_type": "markdown",
   "metadata": {},
   "source": [
    "# Cross-validation"
   ]
  },
  {
   "cell_type": "markdown",
   "metadata": {},
   "source": [
    "Using all training data to see if the model is good is inappropriate because we have no clue how good the estimation is at points not included in the training data. To avoid this issue, we can use cross-validation by dividing a dataset into small subsets, building models with the same algorithms but different training subsets separately, and calculate the accuracy scores of the model with the data not in their training subsets."
   ]
  },
  {
   "cell_type": "code",
   "execution_count": 6,
   "metadata": {},
   "outputs": [
    {
     "name": "stdout",
     "output_type": "stream",
     "text": [
      "[0.5034965  0.48251748 0.51748252 0.48591549 0.4893617 ]\n"
     ]
    }
   ],
   "source": [
    "# split up the data into 5 subsets\n",
    "from sklearn.model_selection import cross_val_score\n",
    "scores = cross_val_score(model, df_train.loc[:, ['Sex', 'Age', 'Embarked']], df_train.Pclass, cv=5)\n",
    "print(scores)"
   ]
  },
  {
   "cell_type": "markdown",
   "metadata": {},
   "source": [
    "The accuracy score of the model is actually around 50% only, which is much lower than the previous 60.8% score."
   ]
  },
  {
   "cell_type": "markdown",
   "metadata": {},
   "source": [
    "# True and false positive rate"
   ]
  },
  {
   "cell_type": "markdown",
   "metadata": {},
   "source": [
    "To simplify our discussion, let's consider using the classification algorithm to predict if a person is dead in the incident. This is done by building another classification model on the data 'Survived':"
   ]
  },
  {
   "cell_type": "code",
   "execution_count": 7,
   "metadata": {},
   "outputs": [
    {
     "data": {
      "text/plain": [
       "SVC(C=1.0, cache_size=200, class_weight=None, coef0=0.0,\n",
       "  decision_function_shape='ovr', degree=3, gamma='auto', kernel='linear',\n",
       "  max_iter=-1, probability=False, random_state=None, shrinking=True,\n",
       "  tol=0.001, verbose=False)"
      ]
     },
     "execution_count": 7,
     "metadata": {},
     "output_type": "execute_result"
    }
   ],
   "source": [
    "from sklearn.svm import SVC # \"Support vector classifier\"\n",
    "model = SVC(kernel='linear')\n",
    "# train the model using half of the result, use the rest for testing\n",
    "from sklearn.model_selection import train_test_split\n",
    "X_train, X_test, y_train, y_test = train_test_split(df_train.loc[:, ['Sex', 'Age', 'Embarked']],\n",
    "                                                    df_train.Survived, test_size=0.5, random_state=50)\n",
    "model.fit(X_train, y_train)"
   ]
  },
  {
   "cell_type": "markdown",
   "metadata": {},
   "source": [
    "To visualize the result, let's look at the confusion table."
   ]
  },
  {
   "cell_type": "code",
   "execution_count": 8,
   "metadata": {},
   "outputs": [
    {
     "name": "stdout",
     "output_type": "stream",
     "text": [
      "          Predicted to be dead  Predicted to have survived\n",
      "Dead                       180                          34\n",
      "Survived                    42                         100\n"
     ]
    }
   ],
   "source": [
    "# let's use the other half of the data for the evaluation\n",
    "pred_dead = model.predict(X_test)\n",
    "# now we can form the confusion matrix using the estimated classes and the actual classes of the data points\n",
    "confusion_tab = confusion_matrix(y_test, pred_dead)\n",
    "\n",
    "# let's beautify it\n",
    "confusiontab_df = pd.DataFrame(confusion_tab,\n",
    "                               index=['Dead', 'Survived'],\n",
    "                               columns=['Predicted to be dead', 'Predicted to have survived'])\n",
    "print(confusiontab_df)"
   ]
  },
  {
   "cell_type": "markdown",
   "metadata": {},
   "source": [
    "Let's consider\n",
    "\n",
    "* True positive rate to be the correct identification rate to predict a person to be dead\n",
    "* False positive rate to be the prediction rate of falsely identify a living person to be dead\n",
    "\n",
    "and calculate the scores"
   ]
  },
  {
   "cell_type": "code",
   "execution_count": 9,
   "metadata": {},
   "outputs": [
    {
     "name": "stdout",
     "output_type": "stream",
     "text": [
      "Accuracy score is 78.65%\n",
      "True positive rate is 84.11%\n",
      "False positive rate is 29.58%\n"
     ]
    }
   ],
   "source": [
    "score = model.score(X_test, y_test)\n",
    "print('Accuracy score is %.2f%%' % (score*100))\n",
    "tp_rate = confusiontab_df.loc['Dead', 'Predicted to be dead']/confusiontab_df.loc['Dead', :].sum()\n",
    "print('True positive rate is %.2f%%' % (tp_rate*100))\n",
    "fp_rate = confusiontab_df.loc['Survived', 'Predicted to be dead']/confusiontab_df.loc['Survived', :].sum()\n",
    "print('False positive rate is %.2f%%' % (fp_rate*100))"
   ]
  },
  {
   "cell_type": "markdown",
   "metadata": {},
   "source": [
    "You can see how different they are. If you are doing classification in general, __your accuracy score is ~80%__. But if you focus on not only predicting a dead person but avoid the prediction of a living person to be dead, you have to consider the __~30% false positive rate__!"
   ]
  },
  {
   "cell_type": "markdown",
   "metadata": {},
   "source": [
    "# Receiver operating characteristic (ROC) curve\n",
    "\n",
    "In some occasions, your algorithm may have tuning parameters from the user to adjust the classification (e.g. rate of alarms from the classification algorithm). But you still want to develop the algorithm so that it works at all tuning levels (i.e. not very high false alarm rate). ROC curve will help you.\n",
    "\n",
    "Consider the previous case of the prediction if a person is dead in an incident. In the next attempt, you would like to use the regularization strength of the Logisitic Regression classifier as a tunable parameter, and you want to know the performance of the algorithm under range of C from 0.01 to 0.2. So you calculate the true and false positive rates at different C values"
   ]
  },
  {
   "cell_type": "code",
   "execution_count": 10,
   "metadata": {},
   "outputs": [],
   "source": [
    "# Calculating the true and false positive rates at different cs\n",
    "from sklearn.linear_model import LogisticRegression\n",
    "cs = []\n",
    "tp_rates = []\n",
    "fp_rates = []\n",
    "for c in range(1, 20):\n",
    "    model = LogisticRegression(C=c*0.01)\n",
    "    tab_half = int(df_train.shape[0]/2.0)\n",
    "    model.fit(X_train, y_train)\n",
    "    pred_dead = model.predict(X_test)\n",
    "    confusion_tab = confusion_matrix(y_test, pred_dead)\n",
    "    confusiontab_df = pd.DataFrame(confusion_tab,\n",
    "                                   index=['Dead', 'Survived'],\n",
    "                                   columns=['Predicted to be dead', 'Predicted to have survived'])\n",
    "    tp_rate = confusiontab_df.loc['Dead', 'Predicted to be dead']/confusiontab_df.loc['Dead', :].sum()*100.0\n",
    "    fp_rate = confusiontab_df.loc['Survived', 'Predicted to be dead']/confusiontab_df.loc['Survived', :].sum()*100.0\n",
    "    cs.append(c*0.5)\n",
    "    tp_rates.append(tp_rate)\n",
    "    fp_rates.append(fp_rate)"
   ]
  },
  {
   "cell_type": "code",
   "execution_count": 11,
   "metadata": {},
   "outputs": [
    {
     "data": {
      "image/png": "[encoded data removed]",
      "text/plain": [
       "<Figure size 432x288 with 1 Axes>"
      ]
     },
     "metadata": {},
     "output_type": "display_data"
    }
   ],
   "source": [
    "# Now it's time to plot the results\n",
    "%matplotlib inline\n",
    "import matplotlib.pylab as plt\n",
    "\n",
    "def plot_roc(fp_rates, tp_rates):\n",
    "    plt.plot(fp_rates, tp_rates, '-', label='Logistic Regression')\n",
    "    plt.xlabel('False positive rate [%]')\n",
    "    plt.ylabel('True positive rate [%]')\n",
    "    plt.xlim([0, 100])\n",
    "    plt.ylim([0, 100])\n",
    "    plt.plot([0, 100], [0, 100], 'k:', label='Random Guess')  # Don't forget the curve for random guess\n",
    "    plt.plot([0, 0, 100], [0, 100, 100], 'r-.', linewidth=5, label='Perfect Algorithm')\n",
    "    plt.legend()\n",
    "\n",
    "plot_roc(fp_rates, tp_rates)"
   ]
  },
  {
   "cell_type": "markdown",
   "metadata": {},
   "source": [
    "Beyond C = 0.2, the true and false positive rates do not change regardless of how much you increase C. Can we continue the adjustment?\n",
    "\n",
    "We can.\n",
    "\n",
    "By considering probabilities from the classifier:"
   ]
  },
  {
   "cell_type": "code",
   "execution_count": 12,
   "metadata": {},
   "outputs": [
    {
     "data": {
      "text/plain": [
       "array([[0.32695501, 0.67304499],\n",
       "       [0.69741471, 0.30258529],\n",
       "       [0.72726157, 0.27273843],\n",
       "       [0.2922225 , 0.7077775 ],\n",
       "       [0.70604007, 0.29395993],\n",
       "       [0.77167464, 0.22832536],\n",
       "       [0.39930633, 0.60069367],\n",
       "       [0.71559045, 0.28440955],\n",
       "       [0.77289137, 0.22710863],\n",
       "       [0.32951631, 0.67048369],\n",
       "       [0.73862868, 0.26137132],\n",
       "       [0.65825411, 0.34174589],\n",
       "       [0.73411877, 0.26588123],\n",
       "       [0.71559045, 0.28440955],\n",
       "       [0.6963051 , 0.3036949 ],\n",
       "       [0.80016641, 0.19983359],\n",
       "       [0.31681368, 0.68318632],\n",
       "       [0.71665827, 0.28334173],\n",
       "       [0.32440399, 0.67559601],\n",
       "       [0.72262918, 0.27737082],\n",
       "       [0.72830221, 0.27169779],\n",
       "       [0.70119534, 0.29880466],\n",
       "       [0.79263307, 0.20736693],\n",
       "       [0.32186336, 0.67813664],\n",
       "       [0.65538543, 0.34461457],\n",
       "       [0.70460207, 0.29539793],\n",
       "       [0.71901107, 0.28098893],\n",
       "       [0.78489208, 0.21510792],\n",
       "       [0.32186336, 0.67813664],\n",
       "       [0.74419609, 0.25580391],\n",
       "       [0.35036274, 0.64963726],\n",
       "       [0.70844517, 0.29155483],\n",
       "       [0.26076692, 0.73923308],\n",
       "       [0.70604007, 0.29395993],\n",
       "       [0.69741471, 0.30258529],\n",
       "       [0.76042551, 0.23957449],\n",
       "       [0.70362344, 0.29637656],\n",
       "       [0.32695501, 0.67304499],\n",
       "       [0.31180679, 0.68819321],\n",
       "       [0.6963051 , 0.3036949 ],\n",
       "       [0.74308886, 0.25691114],\n",
       "       [0.30931965, 0.69068035],\n",
       "       [0.70119534, 0.29880466],\n",
       "       [0.69137005, 0.30862995],\n",
       "       [0.72495143, 0.27504857],\n",
       "       [0.30684349, 0.69315651],\n",
       "       [0.26527014, 0.73472986],\n",
       "       [0.35566877, 0.64433123],\n",
       "       [0.71083865, 0.28916135],\n",
       "       [0.72955955, 0.27044045],\n",
       "       [0.70119534, 0.29880466],\n",
       "       [0.30437843, 0.69562157],\n",
       "       [0.31430483, 0.68569517],\n",
       "       [0.66721694, 0.33278306],\n",
       "       [0.77694343, 0.22305657],\n",
       "       [0.74749894, 0.25250106],\n",
       "       [0.31180679, 0.68819321],\n",
       "       [0.66604962, 0.33395038],\n",
       "       [0.34628156, 0.65371844],\n",
       "       [0.31180679, 0.68819321],\n",
       "       [0.71083865, 0.28916135],\n",
       "       [0.70119534, 0.29880466],\n",
       "       [0.30437843, 0.69562157],\n",
       "       [0.31180679, 0.68819321],\n",
       "       [0.26301233, 0.73698767],\n",
       "       [0.73637992, 0.26362008],\n",
       "       [0.28377234, 0.71622766],\n",
       "       [0.36638685, 0.63361315],\n",
       "       [0.70844517, 0.29155483],\n",
       "       [0.31933322, 0.68066678],\n",
       "       [0.70471765, 0.29528235],\n",
       "       [0.6788413 , 0.3211587 ],\n",
       "       [0.74086501, 0.25913499],\n",
       "       [0.31180679, 0.68819321],\n",
       "       [0.71677103, 0.28322897],\n",
       "       [0.74187216, 0.25812784],\n",
       "       [0.74086501, 0.25913499],\n",
       "       [0.71665827, 0.28334173],\n",
       "       [0.76671636, 0.23328364],\n",
       "       [0.74848907, 0.25151093],\n",
       "       [0.33726072, 0.66273928],\n",
       "       [0.6963051 , 0.3036949 ],\n",
       "       [0.32695501, 0.67304499],\n",
       "       [0.71794863, 0.28205137],\n",
       "       [0.70844517, 0.29155483],\n",
       "       [0.71083865, 0.28916135],\n",
       "       [0.32301092, 0.67698908],\n",
       "       [0.31180679, 0.68819321],\n",
       "       [0.27442429, 0.72557571],\n",
       "       [0.26754029, 0.73245971],\n",
       "       [0.70119534, 0.29880466],\n",
       "       [0.71559045, 0.28440955],\n",
       "       [0.62861096, 0.37138904],\n",
       "       [0.70844517, 0.29155483],\n",
       "       [0.71665827, 0.28334173],\n",
       "       [0.72262918, 0.27737082],\n",
       "       [0.29948192, 0.70051808],\n",
       "       [0.33986198, 0.66013802],\n",
       "       [0.32440399, 0.67559601],\n",
       "       [0.70362344, 0.29637656],\n",
       "       [0.6799854 , 0.3200146 ],\n",
       "       [0.70119534, 0.29880466],\n",
       "       [0.77694343, 0.22305657],\n",
       "       [0.26878912, 0.73121088],\n",
       "       [0.37997164, 0.62002836],\n",
       "       [0.74075838, 0.25924162],\n",
       "       [0.73862868, 0.26137132],\n",
       "       [0.76671636, 0.23328364],\n",
       "       [0.25975564, 0.74024436],\n",
       "       [0.28613917, 0.71386083],\n",
       "       [0.26527014, 0.73472986],\n",
       "       [0.30931965, 0.69068035],\n",
       "       [0.29705065, 0.70294935],\n",
       "       [0.25071288, 0.74928712],\n",
       "       [0.7625353 , 0.2374647 ],\n",
       "       [0.72029489, 0.27970511],\n",
       "       [0.7687876 , 0.2312124 ],\n",
       "       [0.70604007, 0.29395993],\n",
       "       [0.6963051 , 0.3036949 ],\n",
       "       [0.36222309, 0.63777691],\n",
       "       [0.69001061, 0.30998939],\n",
       "       [0.68136851, 0.31863149],\n",
       "       [0.28613917, 0.71386083],\n",
       "       [0.74308886, 0.25691114],\n",
       "       [0.66604962, 0.33395038],\n",
       "       [0.69248973, 0.30751027],\n",
       "       [0.75616755, 0.24383245],\n",
       "       [0.71083865, 0.28916135],\n",
       "       [0.7625353 , 0.2374647 ],\n",
       "       [0.72955955, 0.27044045],\n",
       "       [0.31543798, 0.68456202],\n",
       "       [0.81107816, 0.18892184],\n",
       "       [0.35833525, 0.64166475],\n",
       "       [0.35036274, 0.64963726],\n",
       "       [0.25731601, 0.74268399],\n",
       "       [0.74968509, 0.25031491],\n",
       "       [0.27107827, 0.72892173],\n",
       "       [0.72955955, 0.27044045],\n",
       "       [0.73411877, 0.26588123],\n",
       "       [0.70844517, 0.29155483],\n",
       "       [0.75283729, 0.24716271],\n",
       "       [0.72495143, 0.27504857],\n",
       "       [0.72495143, 0.27504857],\n",
       "       [0.74308886, 0.25691114],\n",
       "       [0.36101051, 0.63898949],\n",
       "       [0.70844517, 0.29155483],\n",
       "       [0.7625353 , 0.2374647 ],\n",
       "       [0.70362344, 0.29637656],\n",
       "       [0.72495143, 0.27504857],\n",
       "       [0.74968509, 0.25031491],\n",
       "       [0.67119699, 0.32880301],\n",
       "       [0.39097769, 0.60902231],\n",
       "       [0.28035638, 0.71964362],\n",
       "       [0.70362344, 0.29637656],\n",
       "       [0.7518586 , 0.2481414 ],\n",
       "       [0.73411877, 0.26588123],\n",
       "       [0.65943475, 0.34056525],\n",
       "       [0.32951631, 0.67048369],\n",
       "       [0.78094369, 0.21905631],\n",
       "       [0.78094369, 0.21905631],\n",
       "       [0.31430483, 0.68569517],\n",
       "       [0.72830221, 0.27169779],\n",
       "       [0.73862868, 0.26137132],\n",
       "       [0.31180679, 0.68819321],\n",
       "       [0.34891576, 0.65108424],\n",
       "       [0.36101051, 0.63898949],\n",
       "       [0.65825411, 0.34174589],\n",
       "       [0.61778853, 0.38221147],\n",
       "       [0.73637992, 0.26362008],\n",
       "       [0.72029489, 0.27970511],\n",
       "       [0.32440399, 0.67559601],\n",
       "       [0.30684349, 0.69315651],\n",
       "       [0.74308886, 0.25691114],\n",
       "       [0.29331009, 0.70668991],\n",
       "       [0.6963051 , 0.3036949 ],\n",
       "       [0.26878912, 0.73121088],\n",
       "       [0.69248973, 0.30751027],\n",
       "       [0.34772344, 0.65227656],\n",
       "       [0.79642568, 0.20357432],\n",
       "       [0.6788413 , 0.3211587 ],\n",
       "       [0.32047603, 0.67952397],\n",
       "       [0.33986198, 0.66013802],\n",
       "       [0.72495143, 0.27504857],\n",
       "       [0.76671636, 0.23328364],\n",
       "       [0.26651222, 0.73348778],\n",
       "       [0.74848907, 0.25151093],\n",
       "       [0.31933322, 0.68066678],\n",
       "       [0.39374712, 0.60625288],\n",
       "       [0.72029489, 0.27970511],\n",
       "       [0.77289137, 0.22710863],\n",
       "       [0.28982578, 0.71017422],\n",
       "       [0.77177247, 0.22822753],\n",
       "       [0.32695501, 0.67304499],\n",
       "       [0.70339177, 0.29660823],\n",
       "       [0.35833525, 0.64166475],\n",
       "       [0.71559045, 0.28440955],\n",
       "       [0.33067785, 0.66932215],\n",
       "       [0.72495143, 0.27504857],\n",
       "       [0.68364493, 0.31635507],\n",
       "       [0.31681368, 0.68318632],\n",
       "       [0.78094369, 0.21905631],\n",
       "       [0.74287676, 0.25712324],\n",
       "       [0.74086501, 0.25913499],\n",
       "       [0.70362344, 0.29637656],\n",
       "       [0.37179668, 0.62820332],\n",
       "       [0.7625353 , 0.2374647 ],\n",
       "       [0.37723882, 0.62276118],\n",
       "       [0.78094369, 0.21905631],\n",
       "       [0.70604007, 0.29395993],\n",
       "       [0.77492387, 0.22507613],\n",
       "       [0.24325525, 0.75674475],\n",
       "       [0.71559045, 0.28440955],\n",
       "       [0.74749894, 0.25250106],\n",
       "       [0.80385534, 0.19614466],\n",
       "       [0.72262918, 0.27737082],\n",
       "       [0.26982274, 0.73017726],\n",
       "       [0.32301092, 0.67698908],\n",
       "       [0.37997164, 0.62002836],\n",
       "       [0.32695501, 0.67304499],\n",
       "       [0.72726157, 0.27273843],\n",
       "       [0.73637992, 0.26362008],\n",
       "       [0.72610802, 0.27389198],\n",
       "       [0.71559045, 0.28440955],\n",
       "       [0.41613503, 0.58386497],\n",
       "       [0.70362344, 0.29637656],\n",
       "       [0.33986198, 0.66013802],\n",
       "       [0.28141737, 0.71858263],\n",
       "       [0.70362344, 0.29637656],\n",
       "       [0.70604007, 0.29395993],\n",
       "       [0.37451378, 0.62548622],\n",
       "       [0.70229472, 0.29770528],\n",
       "       [0.73411877, 0.26588123],\n",
       "       [0.70362344, 0.29637656],\n",
       "       [0.6799854 , 0.3200146 ],\n",
       "       [0.76358538, 0.23641462],\n",
       "       [0.70107897, 0.29892103],\n",
       "       [0.72955955, 0.27044045],\n",
       "       [0.72726157, 0.27273843],\n",
       "       [0.70604007, 0.29395993],\n",
       "       [0.67606039, 0.32393961],\n",
       "       [0.77289137, 0.22710863],\n",
       "       [0.72262918, 0.27737082],\n",
       "       [0.75830291, 0.24169709],\n",
       "       [0.25191017, 0.74808983],\n",
       "       [0.28744073, 0.71255927],\n",
       "       [0.6963051 , 0.3036949 ],\n",
       "       [0.80016641, 0.19983359],\n",
       "       [0.30058505, 0.69941495],\n",
       "       [0.31430483, 0.68569517],\n",
       "       [0.73411877, 0.26588123],\n",
       "       [0.31180679, 0.68819321],\n",
       "       [0.73411877, 0.26588123],\n",
       "       [0.3827121 , 0.6172879 ],\n",
       "       [0.35155923, 0.64844077],\n",
       "       [0.81107816, 0.18892184],\n",
       "       [0.69875586, 0.30124414],\n",
       "       [0.72495143, 0.27504857],\n",
       "       [0.72495143, 0.27504857],\n",
       "       [0.73862868, 0.26137132],\n",
       "       [0.27569315, 0.72430685],\n",
       "       [0.70844517, 0.29155483],\n",
       "       [0.70844517, 0.29155483],\n",
       "       [0.75616755, 0.24383245],\n",
       "       [0.71794863, 0.28205137],\n",
       "       [0.60952691, 0.39047309],\n",
       "       [0.76671636, 0.23328364],\n",
       "       [0.6788413 , 0.3211587 ],\n",
       "       [0.33986198, 0.66013802],\n",
       "       [0.7687876 , 0.2312124 ],\n",
       "       [0.60398372, 0.39601628],\n",
       "       [0.24853706, 0.75146294],\n",
       "       [0.27663214, 0.72336786],\n",
       "       [0.66346092, 0.33653908],\n",
       "       [0.70471765, 0.29528235],\n",
       "       [0.72262918, 0.27737082],\n",
       "       [0.26982274, 0.73017726],\n",
       "       [0.72955955, 0.27044045],\n",
       "       [0.66086238, 0.33913762],\n",
       "       [0.32951631, 0.67048369],\n",
       "       [0.29572362, 0.70427638],\n",
       "       [0.33466928, 0.66533072],\n",
       "       [0.74530018, 0.25469982],\n",
       "       [0.73411877, 0.26588123],\n",
       "       [0.77694343, 0.22305657],\n",
       "       [0.29705065, 0.70294935],\n",
       "       [0.33986198, 0.66013802],\n",
       "       [0.75616755, 0.24383245],\n",
       "       [0.26199543, 0.73800457],\n",
       "       [0.27211743, 0.72788257],\n",
       "       [0.37997164, 0.62002836],\n",
       "       [0.33208777, 0.66791223],\n",
       "       [0.29948192, 0.70051808],\n",
       "       [0.66086238, 0.33913762],\n",
       "       [0.73862868, 0.26137132],\n",
       "       [0.70362344, 0.29637656],\n",
       "       [0.6205276 , 0.3794724 ],\n",
       "       [0.76671636, 0.23328364],\n",
       "       [0.26651222, 0.73348778],\n",
       "       [0.30684349, 0.69315651],\n",
       "       [0.31933322, 0.68066678],\n",
       "       [0.72135193, 0.27864807],\n",
       "       [0.32440399, 0.67559601],\n",
       "       [0.30684349, 0.69315651],\n",
       "       [0.28613917, 0.71386083],\n",
       "       [0.76042551, 0.23957449],\n",
       "       [0.70119534, 0.29880466],\n",
       "       [0.30684349, 0.69315651],\n",
       "       [0.70362344, 0.29637656],\n",
       "       [0.73411877, 0.26588123],\n",
       "       [0.74968509, 0.25031491],\n",
       "       [0.66346092, 0.33653908],\n",
       "       [0.29705065, 0.70294935],\n",
       "       [0.31933322, 0.68066678],\n",
       "       [0.70844517, 0.29155483],\n",
       "       [0.72262918, 0.27737082],\n",
       "       [0.71322044, 0.28677956],\n",
       "       [0.28613917, 0.71386083],\n",
       "       [0.34247294, 0.65752706],\n",
       "       [0.37847363, 0.62152637],\n",
       "       [0.74308886, 0.25691114],\n",
       "       [0.73862868, 0.26137132],\n",
       "       [0.27337964, 0.72662036],\n",
       "       [0.30192454, 0.69807546],\n",
       "       [0.29705065, 0.70294935],\n",
       "       [0.73862868, 0.26137132],\n",
       "       [0.7518586 , 0.2481414 ],\n",
       "       [0.70119534, 0.29880466],\n",
       "       [0.72495143, 0.27504857],\n",
       "       [0.33726072, 0.66273928],\n",
       "       [0.71322044, 0.28677956],\n",
       "       [0.74749894, 0.25250106],\n",
       "       [0.71559045, 0.28440955],\n",
       "       [0.32440399, 0.67559601],\n",
       "       [0.76765456, 0.23234544],\n",
       "       [0.78292437, 0.21707563],\n",
       "       [0.72495143, 0.27504857],\n",
       "       [0.33466928, 0.66533072],\n",
       "       [0.29705065, 0.70294935],\n",
       "       [0.27907433, 0.72092567],\n",
       "       [0.65739127, 0.34260873],\n",
       "       [0.35301123, 0.64698877],\n",
       "       [0.73637992, 0.26362008],\n",
       "       [0.35301123, 0.64698877],\n",
       "       [0.71083865, 0.28916135],\n",
       "       [0.70471765, 0.29528235],\n",
       "       [0.70844517, 0.29155483],\n",
       "       [0.78094369, 0.21905631],\n",
       "       [0.7318453 , 0.2681547 ],\n",
       "       [0.29705065, 0.70294935],\n",
       "       [0.32695501, 0.67304499],\n",
       "       [0.34247294, 0.65752706],\n",
       "       [0.66604962, 0.33395038],\n",
       "       [0.23428299, 0.76571701],\n",
       "       [0.75616755, 0.24383245],\n",
       "       [0.70712908, 0.29287092],\n",
       "       [0.71794863, 0.28205137]])"
      ]
     },
     "execution_count": 12,
     "metadata": {},
     "output_type": "execute_result"
    }
   ],
   "source": [
    "probs = model.predict_proba(X_test)\n",
    "probs"
   ]
  },
  {
   "cell_type": "markdown",
   "metadata": {},
   "source": [
    "So the classification algorithm can be seen as the confirmation of the first column probability to be higher than 0.5. Now if we keep increasing the probability threshold and re-plot the diagram:"
   ]
  },
  {
   "cell_type": "code",
   "execution_count": 13,
   "metadata": {},
   "outputs": [
    {
     "data": {
      "image/png": "[encoded data removed]",
      "text/plain": [
       "<Figure size 432x288 with 1 Axes>"
      ]
     },
     "metadata": {},
     "output_type": "display_data"
    }
   ],
   "source": [
    "for prob_thres in [0.5+0.005*(ind+1) for ind in range(100)]:\n",
    "    pred_dead = [int(chk) for chk in probs[:, 0] < prob_thres]\n",
    "    confusion_tab = confusion_matrix(y_test, pred_dead)\n",
    "    confusiontab_df = pd.DataFrame(confusion_tab,\n",
    "                                   index=['Dead', 'Survived'],\n",
    "                                   columns=['Predicted to be dead', 'Predicted to have survived'])\n",
    "    tp_rate = confusiontab_df.loc['Dead', 'Predicted to be dead']/confusiontab_df.loc['Dead', :].sum()*100.0\n",
    "    fp_rate = confusiontab_df.loc['Survived', 'Predicted to be dead']/confusiontab_df.loc['Survived', :].sum()*100.0\n",
    "    cs.append(c*0.5)\n",
    "    tp_rates.append(tp_rate)\n",
    "    fp_rates.append(fp_rate)\n",
    "\n",
    "plot_roc(fp_rates, tp_rates)"
   ]
  },
  {
   "cell_type": "markdown",
   "metadata": {},
   "source": [
    "If you are able to connect the (0, 0) with (100, 100) for your algorithm, you can even calculate the area of the ROC as a metric of the performance of the classification algorithm.\n",
    "\n",
    "Assume that we have a linear relationship between the rightmost point and the (100, 100) point in the ROC curve:"
   ]
  },
  {
   "cell_type": "code",
   "execution_count": 14,
   "metadata": {},
   "outputs": [
    {
     "data": {
      "image/png": "[encoded data removed]",
      "text/plain": [
       "<Figure size 432x288 with 1 Axes>"
      ]
     },
     "metadata": {},
     "output_type": "display_data"
    }
   ],
   "source": [
    "tp_rates = [100]+tp_rates\n",
    "fp_rates = [100]+fp_rates\n",
    "plot_roc(fp_rates, tp_rates)"
   ]
  },
  {
   "cell_type": "markdown",
   "metadata": {},
   "source": [
    "We can compute the area of the ROC curve using numerical integration on the true and false positive rate of the data."
   ]
  },
  {
   "cell_type": "code",
   "execution_count": 15,
   "metadata": {},
   "outputs": [
    {
     "name": "stdout",
     "output_type": "stream",
     "text": [
      "The area under the ROC curve is 0.7913979202316703\n"
     ]
    }
   ],
   "source": [
    "import numpy as np\n",
    "aroc = -np.trapz(tp_rates, fp_rates)/10000.0  # 10000.0 to normalize the area\n",
    "# negative sign for the descending order of the data\n",
    "print('The area under the ROC curve is', aroc)"
   ]
  },
  {
   "cell_type": "markdown",
   "metadata": {},
   "source": [
    "The area under ROC curve of a random guess algorithm is 0.5, while the one of a perfect algorithm is 1.0. This gives you a general understanding of how good the algorithm works under all thresholds."
   ]
  },
  {
   "attachments": {},
   "cell_type": "markdown",
   "metadata": {},
   "source": [
    "## Additional information\n",
    "\n",
    "This Jupyter Notebook is written by Howard Cheung for the presentation \"How can we know that a machine learning algorithm classifies and detects faults well?\" at PyData Hong Kong on 2018/10/25.\n",
    "\n",
    "References for this document include:\n",
    "\n",
    "Cheung, H., Braun, J. E., & Langner, M. R. (2016). Methodology to Assess No Touch Audit Software Using Simulated Building Utility Data (No. NREL/SR-5500-66001). Golden, CO: National Renewable Energy Laboratory. Retrieved from http://www.nrel.gov/docs/fy17osti/66001.pdf\n",
    "\n",
    "Fawcett, T. (2006). An introduction to ROC analysis. Pattern Recognition Letters, 27(8), 861–874. https://doi.org/10.1016/j.patrec.2005.10.010\n",
    "\n",
    "Frank, S., Heaney, M., Jin, X., Robertson, J., Cheung, H., Elmore, R., & Henze, G. (2016). Hybrid Model-Based and Data-Driven Fault Detection and Diagnostics for Commercial Buildings. In 2016 ACEEE Summer Study on Energy Efficiency in Buildings. Retrieved from http://www.nrel.gov/docs/fy16osti/65924.pdf\n",
    "\n",
    "Kaggle. Titanic: Machine Learning from Disaster. Retrieved October 23, 2018, from https://www.kaggle.com/c/titanic\n",
    "\n",
    "VanderPlas, J. (2016). Python Data Science Handbook: Essential Tools for Working with Data (1 edition). Sebastopol, CA: O’Reilly Media. Retrieved from https://jakevdp.github.io/PythonDataScienceHandbook/index.html"
   ]
  },
  {
   "cell_type": "code",
   "execution_count": null,
   "metadata": {},
   "outputs": [],
   "source": []
  }
 ],
 "metadata": {
  "kernelspec": {
   "display_name": "Python 3",
   "language": "python",
   "name": "python3"
  },
  "language_info": {
   "codemirror_mode": {
    "name": "ipython",
    "version": 3
   },
   "file_extension": ".py",
   "mimetype": "text/x-python",
   "name": "python",
   "nbconvert_exporter": "python",
   "pygments_lexer": "ipython3",
   "version": "3.5.4"
  }
 },
 "nbformat": 4,
 "nbformat_minor": 2
}
